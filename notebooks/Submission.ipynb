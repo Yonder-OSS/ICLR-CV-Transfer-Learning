{
 "cells": [
  {
   "cell_type": "code",
   "execution_count": null,
   "metadata": {
    "collapsed": true
   },
   "outputs": [],
   "source": [
    "from src.data import prep_data\n",
    "field_ids, crop_ids = prep_data()"
   ]
  },
  {
   "cell_type": "code",
   "execution_count": null,
   "metadata": {},
   "outputs": [],
   "source": [
    "!python /root/train.py /root/configs/test_zindi.json\n",
    "\n"
   ]
  },
  {
   "cell_type": "code",
   "execution_count": null,
   "metadata": {},
   "outputs": [],
   "source": []
  },
  {
   "cell_type": "code",
   "execution_count": null,
   "metadata": {
    "collapsed": true
   },
   "outputs": [],
   "source": [
    "!python /root/train.py /root/configs/base_zindi.json\n",
    "\n"
   ]
  },
  {
   "cell_type": "code",
   "execution_count": null,
   "metadata": {},
   "outputs": [],
   "source": [
    "y = pd.DataFrame([[0,10,10],[1,12,12], [2,12,12]])\n",
    "x.columns = ['a', 'b', 'c']\n",
    "y.columns = ['a', 'b', 'c']\n",
    "d = pd.concat((x['a'], y), join='inner', axis=1)\n",
    "d.head()"
   ]
  },
  {
   "cell_type": "code",
   "execution_count": null,
   "metadata": {},
   "outputs": [],
   "source": [
    "import numpy as np\n",
    "x = []\n",
    "vals = [np.array([1,2]), np.array([1,2])]\n",
    "for v in vals:\n",
    "    x.append(v)\n",
    "np.array(x)"
   ]
  },
  {
   "cell_type": "code",
   "execution_count": null,
   "metadata": {},
   "outputs": [],
   "source": [
    "d = {0: [0, np.array([0,1])], 1: [1, np.array([0,1])], 2: [1, np.array([0,1])]}\n",
    "d2 = {k: v for k, v in d.items() if v[0] != 0}\n",
    "gt, preds = map(list, zip(*d2.values()))\n",
    "print(d)\n",
    "print(preds)\n"
   ]
  },
  {
   "cell_type": "code",
   "execution_count": null,
   "metadata": {},
   "outputs": [],
   "source": [
    "import numpy as np\n",
    "from scipy.special import softmax\n",
    "# def softmax2(logits):\n",
    "#     e_x = np.exp(logits - np.max(logits))\n",
    "#     s = e_x.sum(axis=1).reshape(-1, 1)\n",
    "#     print(e_x.shape)\n",
    "#     print(s.shape)\n",
    "#     return e_x / s\n",
    "d = {0: [0, np.array([0,1, 4])], 1: [1, np.array([0,1,4])], 2: [1, np.array([0,1, 4])]}\n",
    "d2 = {k: v for k, v in d.items() if v[0] != 0}\n",
    "gt, preds = map(list, zip(*d2.values()))\n",
    "print(preds)\n",
    "print(np.sum(preds, axis=0))\n",
    "print(softmax(preds))\n",
    "\n"
   ]
  },
  {
   "cell_type": "code",
   "execution_count": null,
   "metadata": {},
   "outputs": [],
   "source": []
  }
 ],
 "metadata": {
  "kernelspec": {
   "display_name": "Python 2",
   "language": "python",
   "name": "python2"
  },
  "language_info": {
   "codemirror_mode": {
    "name": "ipython",
    "version": 2
   },
   "file_extension": ".py",
   "mimetype": "text/x-python",
   "name": "python",
   "nbconvert_exporter": "python",
   "pygments_lexer": "ipython2",
   "version": "2.7.12"
  }
 },
 "nbformat": 4,
 "nbformat_minor": 2
}